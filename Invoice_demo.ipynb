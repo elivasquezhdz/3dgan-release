{
  "nbformat": 4,
  "nbformat_minor": 0,
  "metadata": {
    "colab": {
      "name": "Invoice_demo.ipynb",
      "version": "0.3.2",
      "provenance": [],
      "collapsed_sections": [],
      "include_colab_link": true
    },
    "kernelspec": {
      "name": "python3",
      "display_name": "Python 3"
    }
  },
  "cells": [
    {
      "cell_type": "markdown",
      "metadata": {
        "id": "view-in-github",
        "colab_type": "text"
      },
      "source": [
        "<a href=\"https://colab.research.google.com/github/elivasquezhdz/3dgan-release/blob/master/Invoice_demo.ipynb\" target=\"_parent\"><img src=\"https://colab.research.google.com/assets/colab-badge.svg\" alt=\"Open In Colab\"/></a>"
      ]
    },
    {
      "metadata": {
        "id": "jX2Xfr6-fLaJ",
        "colab_type": "text"
      },
      "cell_type": "markdown",
      "source": [
        "#Install non native dependencies"
      ]
    },
    {
      "metadata": {
        "id": "XFIZ_-dAcMCS",
        "colab_type": "code",
        "colab": {}
      },
      "cell_type": "code",
      "source": [
        "!pip install pyramid\n",
        "!pip install Flask-SQLAlchemy\n",
        "!pip install -U -q PyDrive"
      ],
      "execution_count": 0,
      "outputs": []
    },
    {
      "metadata": {
        "id": "A6nrrW_3fVpv",
        "colab_type": "text"
      },
      "cell_type": "markdown",
      "source": [
        "#Create db model"
      ]
    },
    {
      "metadata": {
        "id": "X2Bb9eACfRh3",
        "colab_type": "code",
        "colab": {}
      },
      "cell_type": "code",
      "source": [
        "#This will donload the file invoice.py from google drive\n",
        "from pydrive.auth import GoogleAuth\n",
        "from pydrive.drive import GoogleDrive\n",
        "from google.colab import auth\n",
        "from oauth2client.client import GoogleCredentials\n",
        "\n",
        "auth.authenticate_user()\n",
        "gauth = GoogleAuth()\n",
        "gauth.credentials = GoogleCredentials.get_application_default()\n",
        "drive = GoogleDrive(gauth)\n",
        "\n",
        "file_id = \"1_VYzV_O8gJaqQHXvtO7edKky3U966Hk3\"\n",
        "\n",
        "\n",
        "downloaded = drive.CreateFile({'id': file_id})\n",
        "downloaded.GetContentFile('invoice.py')\n",
        "\n"
      ],
      "execution_count": 0,
      "outputs": []
    },
    {
      "metadata": {
        "id": "1tIOehfYj_ej",
        "colab_type": "code",
        "colab": {}
      },
      "cell_type": "code",
      "source": [
        "#Once the invoice script will create the model\n",
        "from invoice import db\n",
        "db.create_all()"
      ],
      "execution_count": 0,
      "outputs": []
    },
    {
      "metadata": {
        "id": "JKeg06Q8hu7N",
        "colab_type": "text"
      },
      "cell_type": "markdown",
      "source": [
        "#Make the app public with NGROK"
      ]
    },
    {
      "metadata": {
        "id": "OpqWpHpteX4M",
        "colab_type": "code",
        "colab": {
          "base_uri": "https://localhost:8080/",
          "height": 235
        },
        "outputId": "ea6ba777-9748-4f6e-ca39-d828315954ed"
      },
      "cell_type": "code",
      "source": [
        "!wget https://bin.equinox.io/c/4VmDzA7iaHb/ngrok-stable-linux-amd64.zip\n",
        "!unzip ngrok-stable-linux-amd64.zip"
      ],
      "execution_count": 8,
      "outputs": [
        {
          "output_type": "stream",
          "text": [
            "--2019-02-04 08:18:23--  https://bin.equinox.io/c/4VmDzA7iaHb/ngrok-stable-linux-amd64.zip\n",
            "Resolving bin.equinox.io (bin.equinox.io)... 34.206.253.53, 34.199.255.1, 52.204.188.97, ...\n",
            "Connecting to bin.equinox.io (bin.equinox.io)|34.206.253.53|:443... connected.\n",
            "HTTP request sent, awaiting response... 200 OK\n",
            "Length: 5363700 (5.1M) [application/octet-stream]\n",
            "Saving to: ‘ngrok-stable-linux-amd64.zip’\n",
            "\n",
            "\r          ngrok-sta   0%[                    ]       0  --.-KB/s               \rngrok-stable-linux- 100%[===================>]   5.11M  --.-KB/s    in 0.1s    \n",
            "\n",
            "2019-02-04 08:18:23 (46.3 MB/s) - ‘ngrok-stable-linux-amd64.zip’ saved [5363700/5363700]\n",
            "\n",
            "Archive:  ngrok-stable-linux-amd64.zip\n",
            "  inflating: ngrok                   \n"
          ],
          "name": "stdout"
        }
      ]
    },
    {
      "metadata": {
        "id": "_I98lY1ietVx",
        "colab_type": "code",
        "colab": {}
      },
      "cell_type": "code",
      "source": [
        "get_ipython().system_raw('./ngrok http 6006 &')"
      ],
      "execution_count": 0,
      "outputs": []
    },
    {
      "metadata": {
        "id": "iK4K_hI4fA9y",
        "colab_type": "code",
        "colab": {
          "base_uri": "https://localhost:8080/",
          "height": 34
        },
        "outputId": "f7a6e699-b825-4308-b41e-0334a26c9c7b"
      },
      "cell_type": "code",
      "source": [
        "#click on link after running pyramid app\n",
        "! curl -s http://localhost:4040/api/tunnels | python3 -c \\\n",
        "    \"import sys, json; print(json.load(sys.stdin)['tunnels'][0]['public_url'])\""
      ],
      "execution_count": 10,
      "outputs": [
        {
          "output_type": "stream",
          "text": [
            "http://635ca9d3.ngrok.io\n"
          ],
          "name": "stdout"
        }
      ]
    },
    {
      "metadata": {
        "id": "sl4x36_Nk8or",
        "colab_type": "text"
      },
      "cell_type": "markdown",
      "source": [
        "#Run Pyramid app"
      ]
    },
    {
      "metadata": {
        "id": "kWLf4I7ZWU7t",
        "colab_type": "code",
        "colab": {}
      },
      "cell_type": "code",
      "source": [
        "#Pyramid hellow world on port 6006\n",
        "from wsgiref.simple_server import make_server\n",
        "from pyramid.config import Configurator\n",
        "from pyramid.response import Response\n",
        "\n",
        "\n",
        "def hello_world(request):\n",
        "    return Response('Hello World!')\n",
        "\n",
        "\n",
        "if __name__ == '__main__':\n",
        "    with Configurator() as config:\n",
        "        config.add_route('hello', '/')\n",
        "        config.add_view(hello_world, route_name='hello')\n",
        "        app = config.make_wsgi_app()\n",
        "    server = make_server('0.0.0.0', 6006, app)\n",
        "    server.serve_forever()"
      ],
      "execution_count": 0,
      "outputs": []
    },
    {
      "metadata": {
        "id": "Hba_XGeolNUz",
        "colab_type": "code",
        "colab": {}
      },
      "cell_type": "code",
      "source": [
        ""
      ],
      "execution_count": 0,
      "outputs": []
    }
  ]
}